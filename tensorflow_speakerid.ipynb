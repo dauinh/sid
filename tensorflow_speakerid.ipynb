{
  "cells": [
    {
      "cell_type": "markdown",
      "metadata": {
        "id": "lR2Rvs6NVAuS"
      },
      "source": [
        "# Speaker Identification"
      ]
    },
    {
      "cell_type": "code",
      "execution_count": 1,
      "metadata": {
        "id": "U3U7NbTCXS6T",
        "colab": {
          "base_uri": "https://localhost:8080/"
        },
        "outputId": "474290f1-e1db-40ce-b041-17e2310d4087"
      },
      "outputs": [
        {
          "output_type": "stream",
          "name": "stdout",
          "text": [
            "Requirement already satisfied: tensorflow-io==0.25.0 in /usr/local/lib/python3.10/dist-packages (0.25.0)\n",
            "Requirement already satisfied: tensorflow-io-gcs-filesystem==0.25.0 in /usr/local/lib/python3.10/dist-packages (from tensorflow-io==0.25.0) (0.25.0)\n"
          ]
        }
      ],
      "source": [
        "!pip3 install tensorflow==2.8.0\n",
        "!pip3 install tensorflow-io==0.25.0"
      ]
    },
    {
      "cell_type": "code",
      "execution_count": 2,
      "metadata": {
        "colab": {
          "base_uri": "https://localhost:8080/"
        },
        "id": "SwG9JJB6U3OF",
        "outputId": "c30440e7-719b-483a-e5d0-a978e7a74152"
      },
      "outputs": [
        {
          "output_type": "stream",
          "name": "stdout",
          "text": [
            "TensorFlow version: 2.8.0\n",
            "TensorFlow IO version: 0.25.0\n",
            "True\n"
          ]
        }
      ],
      "source": [
        "import sys\n",
        "import os\n",
        "import random\n",
        "from pathlib import Path\n",
        "from typing import Tuple\n",
        "\n",
        "import librosa\n",
        "import numpy as np\n",
        "import keras\n",
        "import matplotlib.pyplot as plt\n",
        "from matplotlib import cm\n",
        "\n",
        "import tensorflow as tf\n",
        "import tensorflow_io as tfio\n",
        "print(\"TensorFlow version:\", tf.__version__)\n",
        "print(\"TensorFlow IO version:\", tfio.__version__)\n",
        "tf.config.run_functions_eagerly(True)\n",
        "print(tf.executing_eagerly())"
      ]
    },
    {
      "cell_type": "code",
      "execution_count": 3,
      "metadata": {
        "colab": {
          "base_uri": "https://localhost:8080/"
        },
        "id": "-x6YLgMwXYmD",
        "outputId": "9a3ae314-3155-4cd9-87c8-bb7efaeed24e"
      },
      "outputs": [
        {
          "output_type": "stream",
          "name": "stdout",
          "text": [
            "Drive already mounted at /content/drive; to attempt to forcibly remount, call drive.mount(\"/content/drive\", force_remount=True).\n"
          ]
        }
      ],
      "source": [
        "from google.colab import drive\n",
        "drive.mount('/content/drive')\n",
        "ROOT_DIR='/content/drive/MyDrive/College/Research/Linh_2023_Research'\n",
        "\n",
        "DATASET_PATH=ROOT_DIR+'/test_data/vox'"
      ]
    },
    {
      "cell_type": "markdown",
      "metadata": {
        "id": "OsF8O-L0VRZA"
      },
      "source": [
        "## Dataset preparation\n",
        "[Keras Speaker Recognition](https://keras.io/examples/audio/speaker_recognition_using_cnn/)"
      ]
    },
    {
      "cell_type": "code",
      "execution_count": 4,
      "metadata": {
        "id": "CXc8U7QY8Jwn"
      },
      "outputs": [],
      "source": [
        "SAMPLING_RATE = 16000\n",
        "N_MFCC = 13\n",
        "BATCH_SIZE = 128\n",
        "SHUFFLE_SEED = 11\n",
        "TRAIN_VALID_SPLIT = 0.2\n",
        "EPOCHS = 100\n",
        "\n",
        "def paths_and_labels_to_dataset(audio_paths, labels):\n",
        "    \"\"\"Constructs a dataset of audios and labels.\"\"\"\n",
        "    path_ds = tf.data.Dataset.from_tensor_slices(audio_paths)\n",
        "    audio_ds = path_ds.map(lambda x: path_to_audio(x))\n",
        "    label_ds = tf.data.Dataset.from_tensor_slices(labels)\n",
        "    return tf.data.Dataset.zip((audio_ds, label_ds))\n",
        "\n",
        "\n",
        "def path_to_audio(path):\n",
        "    \"\"\"Reads and decodes an audio file.\"\"\"\n",
        "    audio = tf.io.read_file(path)\n",
        "    audio, _ = tf.audio.decode_wav(audio, 1, SAMPLING_RATE)\n",
        "    return audio\n",
        "\n",
        "def audio_to_fft(audio):\n",
        "    # Since tf.signal.fft applies FFT on the innermost dimension,\n",
        "    # we need to squeeze the dimensions and then expand them again\n",
        "    # after FFT\n",
        "    audio = tf.squeeze(audio, axis=-1)\n",
        "    fft = tf.signal.fft(\n",
        "        tf.cast(tf.complex(real=audio, imag=tf.zeros_like(audio)), tf.complex64)\n",
        "    )\n",
        "    fft = tf.expand_dims(fft, axis=-1)\n",
        "\n",
        "    # Return the absolute value of the first half of the FFT\n",
        "    # which represents the positive frequencies\n",
        "    return tf.math.abs(fft[:, : (audio.shape[1] // 2), :])\n",
        "\n",
        "def audio_to_mfcc(audio):\n",
        "    audio = tf.squeeze(audio, axis=-1)\n",
        "    # Convert the audio to MFCC\n",
        "    stfts = tf.signal.stft(audio, frame_length=1024, frame_step=256, fft_length=1024)\n",
        "    spectrograms = tf.abs(stfts)\n",
        "\n",
        "    # Warp the linear scale spectrograms into the mel-scale\n",
        "    num_spectrogram_bins = stfts.shape[-1]\n",
        "    lower_edge_hertz, upper_edge_hertz = 80.0, 7600.0\n",
        "    linear_to_mel_weight_matrix = tf.signal.linear_to_mel_weight_matrix(\n",
        "        N_MFCC, num_spectrogram_bins, SAMPLING_RATE, lower_edge_hertz, upper_edge_hertz)\n",
        "    mel_spectrograms = tf.tensordot(spectrograms, linear_to_mel_weight_matrix, 1)\n",
        "    mel_spectrograms.set_shape(spectrograms.shape[:-1].concatenate(linear_to_mel_weight_matrix.shape[-1:]))\n",
        "\n",
        "    # Compute a stabilized log to get log-magnitude mel-scale spectrograms\n",
        "    log_mel_spectrograms = tf.math.log(mel_spectrograms + 1e-6)\n",
        "\n",
        "    # Compute MFCCs from log_mel_spectrograms and take the first N_MFCC\n",
        "    mfccs = tf.signal.mfccs_from_log_mel_spectrograms(log_mel_spectrograms)[..., :N_MFCC]\n",
        "    print(mfccs)\n",
        "\n",
        "    return mfccs"
      ]
    },
    {
      "cell_type": "code",
      "execution_count": 22,
      "metadata": {
        "colab": {
          "base_uri": "https://localhost:8080/"
        },
        "id": "rSzqjnpz4uhM",
        "outputId": "443e084d-616a-456c-ef51-1b17f08d09eb"
      },
      "outputs": [
        {
          "output_type": "stream",
          "name": "stdout",
          "text": [
            "Processing speaker id10009\n",
            "Processing speaker id10612\n",
            "Processing speaker id10410\n",
            "Processing speaker id10156\n",
            "Processing speaker id10743\n",
            "Found 466 files belonging to 395 classes.\n",
            "Using 373 files for training.\n",
            "Using 93 files for validation.\n",
            "Tensor(\"strided_slice:0\", shape=(None, 59, 13), dtype=float32)\n",
            "Tensor(\"strided_slice:0\", shape=(None, 59, 13), dtype=float32)\n"
          ]
        }
      ],
      "source": [
        "class_names = os.listdir(DATASET_PATH)\n",
        "audio_paths = []\n",
        "labels = []\n",
        "random.shuffle(class_names)\n",
        "for label, name in enumerate(class_names):\n",
        "    if label > 4: break\n",
        "    print(\"Processing speaker {}\".format(name,))\n",
        "    dir_path = Path(DATASET_PATH) / name\n",
        "    speaker_sample_paths = [\n",
        "        os.path.join(dir_path, filepath)\n",
        "        for filepath in os.listdir(dir_path)\n",
        "        if filepath.endswith(\".wav\")\n",
        "    ]\n",
        "    audio_paths += speaker_sample_paths\n",
        "    labels += [label] * len(speaker_sample_paths)\n",
        "\n",
        "print(\n",
        "    \"Found {} files belonging to {} classes.\".format(len(audio_paths), len(class_names))\n",
        ")\n",
        "\n",
        "# Shuffle\n",
        "rng = np.random.RandomState(SHUFFLE_SEED)\n",
        "rng.shuffle(audio_paths)\n",
        "rng = np.random.RandomState(SHUFFLE_SEED)\n",
        "rng.shuffle(labels)\n",
        "\n",
        "# Split into training and validation\n",
        "num_val_samples = int(TRAIN_VALID_SPLIT * len(audio_paths))\n",
        "print(\"Using {} files for training.\".format(len(audio_paths) - num_val_samples))\n",
        "train_audio_paths = audio_paths[:-num_val_samples]\n",
        "train_labels = labels[:-num_val_samples]\n",
        "\n",
        "print(\"Using {} files for validation.\".format(num_val_samples))\n",
        "valid_audio_paths = audio_paths[-num_val_samples:]\n",
        "valid_labels = labels[-num_val_samples:]\n",
        "\n",
        "# Create 2 datasets, one for training and the other for validation\n",
        "train_ds = paths_and_labels_to_dataset(train_audio_paths, train_labels)\n",
        "train_ds = train_ds.shuffle(buffer_size=BATCH_SIZE * 8, seed=SHUFFLE_SEED).batch(\n",
        "    BATCH_SIZE\n",
        ")\n",
        "\n",
        "valid_ds = paths_and_labels_to_dataset(valid_audio_paths, valid_labels)\n",
        "valid_ds = valid_ds.shuffle(buffer_size=32 * 8, seed=SHUFFLE_SEED).batch(32)\n",
        "\n",
        "# Transform audio wave to the frequency domain using `audio_to_mfcc`\n",
        "train_ds = train_ds.map(\n",
        "    lambda x, y: (audio_to_mfcc(x), y), num_parallel_calls=tf.data.AUTOTUNE\n",
        ")\n",
        "train_ds = train_ds.prefetch(tf.data.AUTOTUNE)\n",
        "\n",
        "valid_ds = valid_ds.map(\n",
        "    lambda x, y: (audio_to_mfcc(x), y), num_parallel_calls=tf.data.AUTOTUNE\n",
        ")\n",
        "valid_ds = valid_ds.prefetch(tf.data.AUTOTUNE)"
      ]
    },
    {
      "cell_type": "code",
      "execution_count": 6,
      "metadata": {
        "id": "frTFswK4CGRr",
        "colab": {
          "base_uri": "https://localhost:8080/",
          "height": 472
        },
        "outputId": "b30ae928-ccd8-489e-f307-337cc153ca8d"
      },
      "outputs": [
        {
          "output_type": "display_data",
          "data": {
            "text/plain": [
              "<Figure size 640x480 with 2 Axes>"
            ],
            "image/png": "[encoded data removed]"
          },
          "metadata": {}
        }
      ],
      "source": [
        "for i, data in enumerate(train_ds):\n",
        "    if i > 0: break\n",
        "    x, y = data\n",
        "    # Extract the chosen sample\n",
        "    selected_sample_np = x[i].numpy()\n",
        "\n",
        "    # Display the MFCC for the selected sample\n",
        "    plt.imshow(selected_sample_np, cmap='viridis', origin='lower', aspect='auto')\n",
        "    plt.title(f'MFCC for Sample {i}')\n",
        "    plt.xlabel('MFCC Coefficient')\n",
        "    plt.ylabel('Time Step')\n",
        "    plt.colorbar(label='Magnitude')\n",
        "    plt.show()\n"
      ]
    },
    {
      "cell_type": "markdown",
      "metadata": {
        "id": "9jlin8sbJRYj"
      },
      "source": [
        "## Model\n",
        "\n",
        "MFCC\n",
        "\n",
        "FFT (focus on low freq) ---> CNN (max pool in one direction)\n",
        "\n",
        "Is speaker unique in consonant or vowel?\n",
        "\n"
      ]
    },
    {
      "cell_type": "code",
      "execution_count": 23,
      "metadata": {
        "id": "XnFLlceDEwmQ",
        "colab": {
          "base_uri": "https://localhost:8080/"
        },
        "outputId": "c312fdfb-a9fb-4233-86f6-9cbec0069357"
      },
      "outputs": [
        {
          "output_type": "stream",
          "name": "stdout",
          "text": [
            "Model: \"model_1\"\n",
            "__________________________________________________________________________________________________\n",
            " Layer (type)                   Output Shape         Param #     Connected to                     \n",
            "==================================================================================================\n",
            " input (InputLayer)             [(None, 59, 13)]     0           []                               \n",
            "                                                                                                  \n",
            " conv1d_19 (Conv1D)             (None, 59, 16)       640         ['input[0][0]']                  \n",
            "                                                                                                  \n",
            " activation_13 (Activation)     (None, 59, 16)       0           ['conv1d_19[0][0]']              \n",
            "                                                                                                  \n",
            " conv1d_20 (Conv1D)             (None, 59, 16)       784         ['activation_13[0][0]']          \n",
            "                                                                                                  \n",
            " conv1d_18 (Conv1D)             (None, 59, 16)       224         ['input[0][0]']                  \n",
            "                                                                                                  \n",
            " add_5 (Add)                    (None, 59, 16)       0           ['conv1d_20[0][0]',              \n",
            "                                                                  'conv1d_18[0][0]']              \n",
            "                                                                                                  \n",
            " activation_14 (Activation)     (None, 59, 16)       0           ['add_5[0][0]']                  \n",
            "                                                                                                  \n",
            " conv1d_22 (Conv1D)             (None, 59, 32)       1568        ['activation_14[0][0]']          \n",
            "                                                                                                  \n",
            " activation_15 (Activation)     (None, 59, 32)       0           ['conv1d_22[0][0]']              \n",
            "                                                                                                  \n",
            " conv1d_23 (Conv1D)             (None, 59, 32)       3104        ['activation_15[0][0]']          \n",
            "                                                                                                  \n",
            " conv1d_21 (Conv1D)             (None, 59, 32)       544         ['activation_14[0][0]']          \n",
            "                                                                                                  \n",
            " add_6 (Add)                    (None, 59, 32)       0           ['conv1d_23[0][0]',              \n",
            "                                                                  'conv1d_21[0][0]']              \n",
            "                                                                                                  \n",
            " activation_16 (Activation)     (None, 59, 32)       0           ['add_6[0][0]']                  \n",
            "                                                                                                  \n",
            " conv1d_25 (Conv1D)             (None, 59, 64)       6208        ['activation_16[0][0]']          \n",
            "                                                                                                  \n",
            " activation_17 (Activation)     (None, 59, 64)       0           ['conv1d_25[0][0]']              \n",
            "                                                                                                  \n",
            " conv1d_26 (Conv1D)             (None, 59, 64)       12352       ['activation_17[0][0]']          \n",
            "                                                                                                  \n",
            " activation_18 (Activation)     (None, 59, 64)       0           ['conv1d_26[0][0]']              \n",
            "                                                                                                  \n",
            " conv1d_27 (Conv1D)             (None, 59, 64)       12352       ['activation_18[0][0]']          \n",
            "                                                                                                  \n",
            " conv1d_24 (Conv1D)             (None, 59, 64)       2112        ['activation_16[0][0]']          \n",
            "                                                                                                  \n",
            " add_7 (Add)                    (None, 59, 64)       0           ['conv1d_27[0][0]',              \n",
            "                                                                  'conv1d_24[0][0]']              \n",
            "                                                                                                  \n",
            " activation_19 (Activation)     (None, 59, 64)       0           ['add_7[0][0]']                  \n",
            "                                                                                                  \n",
            " conv1d_29 (Conv1D)             (None, 59, 128)      24704       ['activation_19[0][0]']          \n",
            "                                                                                                  \n",
            " activation_20 (Activation)     (None, 59, 128)      0           ['conv1d_29[0][0]']              \n",
            "                                                                                                  \n",
            " conv1d_30 (Conv1D)             (None, 59, 128)      49280       ['activation_20[0][0]']          \n",
            "                                                                                                  \n",
            " activation_21 (Activation)     (None, 59, 128)      0           ['conv1d_30[0][0]']              \n",
            "                                                                                                  \n",
            " conv1d_31 (Conv1D)             (None, 59, 128)      49280       ['activation_21[0][0]']          \n",
            "                                                                                                  \n",
            " conv1d_28 (Conv1D)             (None, 59, 128)      8320        ['activation_19[0][0]']          \n",
            "                                                                                                  \n",
            " add_8 (Add)                    (None, 59, 128)      0           ['conv1d_31[0][0]',              \n",
            "                                                                  'conv1d_28[0][0]']              \n",
            "                                                                                                  \n",
            " activation_22 (Activation)     (None, 59, 128)      0           ['add_8[0][0]']                  \n",
            "                                                                                                  \n",
            " conv1d_33 (Conv1D)             (None, 59, 128)      49280       ['activation_22[0][0]']          \n",
            "                                                                                                  \n",
            " activation_23 (Activation)     (None, 59, 128)      0           ['conv1d_33[0][0]']              \n",
            "                                                                                                  \n",
            " conv1d_34 (Conv1D)             (None, 59, 128)      49280       ['activation_23[0][0]']          \n",
            "                                                                                                  \n",
            " activation_24 (Activation)     (None, 59, 128)      0           ['conv1d_34[0][0]']              \n",
            "                                                                                                  \n",
            " conv1d_35 (Conv1D)             (None, 59, 128)      49280       ['activation_24[0][0]']          \n",
            "                                                                                                  \n",
            " conv1d_32 (Conv1D)             (None, 59, 128)      16512       ['activation_22[0][0]']          \n",
            "                                                                                                  \n",
            " add_9 (Add)                    (None, 59, 128)      0           ['conv1d_35[0][0]',              \n",
            "                                                                  'conv1d_32[0][0]']              \n",
            "                                                                                                  \n",
            " activation_25 (Activation)     (None, 59, 128)      0           ['add_9[0][0]']                  \n",
            "                                                                                                  \n",
            " flatten_1 (Flatten)            (None, 7552)         0           ['activation_25[0][0]']          \n",
            "                                                                                                  \n",
            " dense_2 (Dense)                (None, 256)          1933568     ['flatten_1[0][0]']              \n",
            "                                                                                                  \n",
            " dense_3 (Dense)                (None, 128)          32896       ['dense_2[0][0]']                \n",
            "                                                                                                  \n",
            " output (Dense)                 (None, 395)          50955       ['dense_3[0][0]']                \n",
            "                                                                                                  \n",
            "==================================================================================================\n",
            "Total params: 2,353,243\n",
            "Trainable params: 2,353,243\n",
            "Non-trainable params: 0\n",
            "__________________________________________________________________________________________________\n"
          ]
        }
      ],
      "source": [
        "def residual_block(x, filters, conv_num=3, activation=\"relu\"):\n",
        "    # Shortcut\n",
        "    s = keras.layers.Conv1D(filters, 1, padding=\"same\")(x)\n",
        "    for i in range(conv_num - 1):\n",
        "        x = keras.layers.Conv1D(filters, 3, padding=\"same\")(x)\n",
        "        x = keras.layers.Activation(activation)(x)\n",
        "    x = keras.layers.Conv1D(filters, 3, padding=\"same\")(x)\n",
        "    x = keras.layers.Add()([x, s])\n",
        "    x = keras.layers.Activation(activation)(x)\n",
        "    return x  # Remove MaxPooling1D layer\n",
        "\n",
        "\n",
        "def build_model(input_shape, num_classes):\n",
        "    inputs = keras.layers.Input(shape=input_shape, name=\"input\")\n",
        "\n",
        "    x = residual_block(inputs, 16, 2)\n",
        "    x = residual_block(x, 32, 2)\n",
        "    x = residual_block(x, 64, 3)\n",
        "    x = residual_block(x, 128, 3)\n",
        "    x = residual_block(x, 128, 3)\n",
        "\n",
        "    x = keras.layers.Flatten()(x)\n",
        "    x = keras.layers.Dense(256, activation=\"relu\")(x)\n",
        "    x = keras.layers.Dense(128, activation=\"relu\")(x)\n",
        "\n",
        "    outputs = keras.layers.Dense(num_classes, activation=\"softmax\", name=\"output\")(x)\n",
        "\n",
        "    return keras.models.Model(inputs=inputs, outputs=outputs)\n",
        "\n",
        "\n",
        "model = build_model((59, N_MFCC), len(class_names))\n",
        "\n",
        "model.summary()\n",
        "\n",
        "# Compile the model using Adam's default learning rate\n",
        "model.compile(\n",
        "    optimizer=\"Adam\", loss=\"sparse_categorical_crossentropy\", metrics=[\"accuracy\"]\n",
        ")\n",
        "\n",
        "# Add callbacks:\n",
        "# 'EarlyStopping' to stop training when the model is not enhancing anymore\n",
        "# 'ModelCheckPoint' to always keep the model that has the best val_accuracy\n",
        "model_save_filename = \"model.h5\"\n",
        "\n",
        "earlystopping_cb = keras.callbacks.EarlyStopping(patience=10, restore_best_weights=True)\n",
        "mdlcheckpoint_cb = keras.callbacks.ModelCheckpoint(\n",
        "    model_save_filename, monitor=\"val_accuracy\", save_best_only=True\n",
        ")"
      ]
    },
    {
      "cell_type": "markdown",
      "metadata": {
        "id": "xpMTXaQmJlRo"
      },
      "source": [
        "## Training"
      ]
    },
    {
      "cell_type": "markdown",
      "metadata": {
        "id": "VRecLUo_ELVz"
      },
      "source": [
        "`fit()` is for training the model with the given inputs (and corresponding training labels).\n",
        "\n",
        "`evaluate()` is for evaluating the already trained model using the validation (or test) data and the corresponding labels. Returns the loss value and metrics values for the model.\n",
        "\n",
        "`predict()` is for the actual prediction. It generates output predictions for the input samples."
      ]
    },
    {
      "cell_type": "code",
      "execution_count": 24,
      "metadata": {
        "colab": {
          "base_uri": "https://localhost:8080/"
        },
        "id": "33HkHl5aJnO2",
        "outputId": "25d59ff1-f9db-446c-d4b8-e648c6ac5f5e"
      },
      "outputs": [
        {
          "output_type": "stream",
          "name": "stdout",
          "text": [
            "Epoch 1/100\n",
            "3/3 [==============================] - 47s 6s/step - loss: 4.3440 - accuracy: 0.2654 - val_loss: 4.7009 - val_accuracy: 0.2043\n",
            "Epoch 2/100\n",
            "3/3 [==============================] - 6s 1s/step - loss: 3.5277 - accuracy: 0.1769 - val_loss: 2.2867 - val_accuracy: 0.3763\n",
            "Epoch 3/100\n",
            "3/3 [==============================] - 10s 3s/step - loss: 2.1316 - accuracy: 0.4182 - val_loss: 1.8960 - val_accuracy: 0.3763\n",
            "Epoch 4/100\n",
            "3/3 [==============================] - 5s 1s/step - loss: 1.6970 - accuracy: 0.3432 - val_loss: 1.6174 - val_accuracy: 0.2688\n",
            "Epoch 5/100\n",
            "3/3 [==============================] - 8s 2s/step - loss: 1.5133 - accuracy: 0.4316 - val_loss: 1.5247 - val_accuracy: 0.3763\n",
            "Epoch 6/100\n",
            "3/3 [==============================] - 5s 1s/step - loss: 1.4499 - accuracy: 0.4424 - val_loss: 1.4816 - val_accuracy: 0.4086\n",
            "Epoch 7/100\n",
            "3/3 [==============================] - 8s 2s/step - loss: 1.3141 - accuracy: 0.4584 - val_loss: 1.4177 - val_accuracy: 0.3978\n",
            "Epoch 8/100\n",
            "3/3 [==============================] - 5s 1s/step - loss: 1.2640 - accuracy: 0.5094 - val_loss: 1.3545 - val_accuracy: 0.4086\n",
            "Epoch 9/100\n",
            "3/3 [==============================] - 7s 2s/step - loss: 1.1264 - accuracy: 0.5416 - val_loss: 1.2650 - val_accuracy: 0.4946\n",
            "Epoch 10/100\n",
            "3/3 [==============================] - 5s 1s/step - loss: 1.0767 - accuracy: 0.6059 - val_loss: 1.1773 - val_accuracy: 0.5376\n",
            "Epoch 11/100\n",
            "3/3 [==============================] - 6s 2s/step - loss: 0.9637 - accuracy: 0.6515 - val_loss: 1.3473 - val_accuracy: 0.4624\n",
            "Epoch 12/100\n",
            "3/3 [==============================] - 8s 2s/step - loss: 0.8450 - accuracy: 0.6622 - val_loss: 1.0848 - val_accuracy: 0.5806\n",
            "Epoch 13/100\n",
            "3/3 [==============================] - 9s 3s/step - loss: 0.7195 - accuracy: 0.7587 - val_loss: 1.0344 - val_accuracy: 0.5806\n",
            "Epoch 14/100\n",
            "3/3 [==============================] - 9s 2s/step - loss: 0.6449 - accuracy: 0.7802 - val_loss: 0.9936 - val_accuracy: 0.6344\n",
            "Epoch 15/100\n",
            "3/3 [==============================] - 6s 1s/step - loss: 0.5350 - accuracy: 0.8097 - val_loss: 1.1674 - val_accuracy: 0.5806\n",
            "Epoch 16/100\n",
            "3/3 [==============================] - 8s 2s/step - loss: 0.5335 - accuracy: 0.8070 - val_loss: 1.7418 - val_accuracy: 0.4946\n",
            "Epoch 17/100\n",
            "3/3 [==============================] - 6s 1s/step - loss: 0.8142 - accuracy: 0.6917 - val_loss: 0.9672 - val_accuracy: 0.6559\n",
            "Epoch 18/100\n",
            "3/3 [==============================] - 5s 1s/step - loss: 0.5711 - accuracy: 0.7962 - val_loss: 1.0105 - val_accuracy: 0.6559\n",
            "Epoch 19/100\n",
            "3/3 [==============================] - 6s 1s/step - loss: 0.4806 - accuracy: 0.8311 - val_loss: 1.0803 - val_accuracy: 0.5806\n",
            "Epoch 20/100\n",
            "3/3 [==============================] - 8s 3s/step - loss: 0.4256 - accuracy: 0.8418 - val_loss: 1.0964 - val_accuracy: 0.6344\n",
            "Epoch 21/100\n",
            "3/3 [==============================] - 6s 1s/step - loss: 0.3776 - accuracy: 0.8713 - val_loss: 1.1215 - val_accuracy: 0.5699\n",
            "Epoch 22/100\n",
            "3/3 [==============================] - 7s 2s/step - loss: 0.3490 - accuracy: 0.8901 - val_loss: 1.1121 - val_accuracy: 0.6452\n",
            "Epoch 23/100\n",
            "3/3 [==============================] - 8s 2s/step - loss: 0.3588 - accuracy: 0.8633 - val_loss: 1.2375 - val_accuracy: 0.6129\n",
            "Epoch 24/100\n",
            "3/3 [==============================] - 5s 1s/step - loss: 0.2889 - accuracy: 0.9088 - val_loss: 1.0970 - val_accuracy: 0.5591\n",
            "Epoch 25/100\n",
            "3/3 [==============================] - 7s 1s/step - loss: 0.2224 - accuracy: 0.9303 - val_loss: 1.3071 - val_accuracy: 0.6237\n",
            "Epoch 26/100\n",
            "3/3 [==============================] - 5s 1s/step - loss: 0.2131 - accuracy: 0.9088 - val_loss: 1.2899 - val_accuracy: 0.6022\n",
            "Epoch 27/100\n",
            "3/3 [==============================] - 6s 1s/step - loss: 0.1627 - accuracy: 0.9544 - val_loss: 1.3331 - val_accuracy: 0.5484\n"
          ]
        }
      ],
      "source": [
        "history = model.fit(\n",
        "    train_ds,\n",
        "    epochs=EPOCHS,\n",
        "    validation_data=valid_ds,\n",
        "    callbacks=[earlystopping_cb, mdlcheckpoint_cb],\n",
        ")"
      ]
    },
    {
      "cell_type": "markdown",
      "metadata": {
        "id": "LF-Lf3hsLCZB"
      },
      "source": [
        "## Evaluate"
      ]
    },
    {
      "cell_type": "code",
      "execution_count": 25,
      "metadata": {
        "id": "yYufHcUMLD_C",
        "colab": {
          "base_uri": "https://localhost:8080/"
        },
        "outputId": "8b3a527f-4d01-4623-c70a-1ca80223f39c"
      },
      "outputs": [
        {
          "output_type": "stream",
          "name": "stdout",
          "text": [
            "3/3 [==============================] - 2s 195ms/step - loss: 0.9672 - accuracy: 0.6559\n",
            "[0.967174232006073, 0.6559139490127563]\n"
          ]
        }
      ],
      "source": [
        "print(model.evaluate(valid_ds))"
      ]
    },
    {
      "cell_type": "code",
      "execution_count": 10,
      "metadata": {
        "id": "-fsVZtGsEZ8z",
        "colab": {
          "base_uri": "https://localhost:8080/"
        },
        "outputId": "ac325304-1ca3-4e1e-c5ca-0aaebb1bbbdc"
      },
      "outputs": [
        {
          "output_type": "stream",
          "name": "stdout",
          "text": [
            "True Label: 2, Predicted Label: 2\n",
            "True Label: 1, Predicted Label: 1\n",
            "True Label: 2, Predicted Label: 2\n",
            "True Label: 4, Predicted Label: 2\n",
            "True Label: 2, Predicted Label: 2\n",
            "True Label: 2, Predicted Label: 2\n",
            "True Label: 2, Predicted Label: 2\n",
            "True Label: 1, Predicted Label: 3\n",
            "True Label: 2, Predicted Label: 2\n",
            "True Label: 4, Predicted Label: 2\n",
            "True Label: 2, Predicted Label: 2\n",
            "True Label: 1, Predicted Label: 3\n",
            "True Label: 1, Predicted Label: 3\n",
            "True Label: 2, Predicted Label: 2\n",
            "True Label: 3, Predicted Label: 1\n",
            "True Label: 4, Predicted Label: 4\n",
            "True Label: 2, Predicted Label: 2\n",
            "True Label: 0, Predicted Label: 3\n",
            "True Label: 1, Predicted Label: 1\n",
            "True Label: 1, Predicted Label: 3\n",
            "True Label: 0, Predicted Label: 4\n",
            "True Label: 3, Predicted Label: 3\n",
            "True Label: 2, Predicted Label: 2\n",
            "True Label: 4, Predicted Label: 2\n",
            "True Label: 3, Predicted Label: 1\n",
            "True Label: 2, Predicted Label: 2\n",
            "True Label: 2, Predicted Label: 2\n",
            "True Label: 4, Predicted Label: 4\n",
            "True Label: 3, Predicted Label: 2\n",
            "True Label: 3, Predicted Label: 3\n",
            "True Label: 3, Predicted Label: 2\n",
            "True Label: 4, Predicted Label: 4\n",
            "True Label: 2, Predicted Label: 2\n",
            "True Label: 2, Predicted Label: 2\n",
            "True Label: 3, Predicted Label: 2\n",
            "True Label: 2, Predicted Label: 2\n",
            "True Label: 1, Predicted Label: 0\n",
            "True Label: 3, Predicted Label: 2\n",
            "True Label: 2, Predicted Label: 2\n",
            "True Label: 2, Predicted Label: 2\n",
            "True Label: 1, Predicted Label: 1\n",
            "True Label: 3, Predicted Label: 3\n",
            "True Label: 4, Predicted Label: 4\n",
            "True Label: 4, Predicted Label: 4\n",
            "True Label: 4, Predicted Label: 4\n",
            "True Label: 1, Predicted Label: 1\n",
            "True Label: 2, Predicted Label: 2\n",
            "True Label: 0, Predicted Label: 3\n",
            "True Label: 0, Predicted Label: 3\n",
            "True Label: 3, Predicted Label: 2\n",
            "True Label: 0, Predicted Label: 3\n",
            "True Label: 1, Predicted Label: 1\n",
            "True Label: 2, Predicted Label: 2\n",
            "True Label: 0, Predicted Label: 3\n",
            "True Label: 4, Predicted Label: 4\n",
            "True Label: 2, Predicted Label: 2\n",
            "True Label: 2, Predicted Label: 2\n",
            "True Label: 0, Predicted Label: 2\n",
            "True Label: 1, Predicted Label: 3\n",
            "True Label: 3, Predicted Label: 3\n",
            "True Label: 2, Predicted Label: 2\n",
            "True Label: 2, Predicted Label: 4\n",
            "True Label: 2, Predicted Label: 2\n",
            "True Label: 4, Predicted Label: 4\n",
            "True Label: 2, Predicted Label: 2\n",
            "True Label: 2, Predicted Label: 2\n",
            "True Label: 0, Predicted Label: 2\n",
            "True Label: 0, Predicted Label: 3\n",
            "True Label: 2, Predicted Label: 2\n",
            "True Label: 4, Predicted Label: 3\n",
            "True Label: 2, Predicted Label: 3\n",
            "True Label: 2, Predicted Label: 2\n",
            "True Label: 1, Predicted Label: 1\n",
            "True Label: 1, Predicted Label: 3\n",
            "True Label: 4, Predicted Label: 1\n",
            "True Label: 2, Predicted Label: 2\n",
            "True Label: 1, Predicted Label: 2\n",
            "True Label: 3, Predicted Label: 3\n",
            "True Label: 2, Predicted Label: 2\n",
            "True Label: 3, Predicted Label: 1\n",
            "True Label: 2, Predicted Label: 2\n",
            "True Label: 4, Predicted Label: 4\n",
            "True Label: 2, Predicted Label: 2\n",
            "True Label: 4, Predicted Label: 3\n",
            "True Label: 2, Predicted Label: 2\n",
            "True Label: 4, Predicted Label: 4\n",
            "True Label: 4, Predicted Label: 3\n",
            "True Label: 2, Predicted Label: 1\n",
            "True Label: 1, Predicted Label: 1\n",
            "True Label: 2, Predicted Label: 2\n",
            "True Label: 2, Predicted Label: 2\n",
            "True Label: 2, Predicted Label: 2\n",
            "True Label: 3, Predicted Label: 0\n",
            "True Label: 3, Predicted Label: 1\n",
            "True Label: 1, Predicted Label: 1\n",
            "True Label: 1, Predicted Label: 2\n",
            "True Label: 4, Predicted Label: 2\n",
            "True Label: 1, Predicted Label: 1\n",
            "True Label: 2, Predicted Label: 2\n",
            "True Label: 4, Predicted Label: 1\n",
            "True Label: 3, Predicted Label: 3\n",
            "True Label: 2, Predicted Label: 2\n",
            "True Label: 2, Predicted Label: 2\n",
            "True Label: 1, Predicted Label: 1\n",
            "True Label: 2, Predicted Label: 2\n",
            "True Label: 4, Predicted Label: 2\n",
            "True Label: 1, Predicted Label: 1\n",
            "True Label: 3, Predicted Label: 3\n",
            "True Label: 2, Predicted Label: 2\n",
            "True Label: 2, Predicted Label: 2\n",
            "True Label: 2, Predicted Label: 2\n",
            "True Label: 2, Predicted Label: 2\n",
            "True Label: 2, Predicted Label: 2\n",
            "True Label: 0, Predicted Label: 3\n",
            "True Label: 1, Predicted Label: 1\n",
            "True Label: 2, Predicted Label: 1\n",
            "True Label: 0, Predicted Label: 3\n",
            "True Label: 0, Predicted Label: 1\n",
            "True Label: 3, Predicted Label: 3\n",
            "True Label: 0, Predicted Label: 2\n",
            "True Label: 1, Predicted Label: 1\n",
            "True Label: 1, Predicted Label: 3\n",
            "True Label: 2, Predicted Label: 2\n",
            "True Label: 2, Predicted Label: 0\n",
            "True Label: 0, Predicted Label: 1\n",
            "True Label: 2, Predicted Label: 2\n",
            "True Label: 4, Predicted Label: 4\n",
            "True Label: 1, Predicted Label: 1\n",
            "True Label: 2, Predicted Label: 2\n",
            "True Label: 3, Predicted Label: 3\n",
            "True Label: 2, Predicted Label: 2\n",
            "True Label: 1, Predicted Label: 1\n",
            "True Label: 0, Predicted Label: 2\n",
            "True Label: 1, Predicted Label: 3\n",
            "True Label: 4, Predicted Label: 4\n",
            "True Label: 0, Predicted Label: 0\n",
            "True Label: 0, Predicted Label: 3\n"
          ]
        }
      ],
      "source": [
        "predictions = model.predict(valid_ds)\n",
        "\n",
        "for data, true_labels in valid_ds:\n",
        "    predicted_labels = np.argmax(model.predict(data), axis=-1)\n",
        "\n",
        "    for true_label, predicted_label in zip(true_labels.numpy(), predicted_labels):\n",
        "        print(f'True Label: {true_label}, Predicted Label: {predicted_label}')"
      ]
    }
  ],
  "metadata": {
    "colab": {
      "provenance": [],
      "authorship_tag": "ABX9TyN8Zlqd9CfQRpFpixRut7Ij"
    },
    "kernelspec": {
      "display_name": "Python 3",
      "name": "python3"
    },
    "language_info": {
      "name": "python"
    }
  },
  "nbformat": 4,
  "nbformat_minor": 0
}